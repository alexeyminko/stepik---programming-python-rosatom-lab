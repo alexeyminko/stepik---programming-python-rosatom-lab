{
 "cells": [
  {
   "cell_type": "code",
   "execution_count": 4,
   "id": "c85e9dee",
   "metadata": {},
   "outputs": [],
   "source": [
    "def decimal_coversion_16():\n",
    "    number_system = {chr(ord('A') + k): 10 + v for k,v in zip(range(6),range(6))}\n",
    "    n = 16\n",
    "    number = input()[::-1]\n",
    "    num_list = [int(number[i])*n**i if number[i].isdigit()\n",
    "                else number_system[number[i]]*n**i for i in range(len(number)) ]\n",
    "    print(sum(num_list))\n",
    "    \n",
    "decimal_coversion_16()"
   ]
  },
  {
   "cell_type": "code",
   "execution_count": 7,
   "id": "018dd994",
   "metadata": {},
   "outputs": [
    {
     "name": "stdout",
     "output_type": "stream",
     "text": [
      "1\n",
      "*\n"
     ]
    }
   ],
   "source": [
    "n = int(input())\n",
    "i = 0\n",
    "while i < n:\n",
    "    i += 1\n",
    "    print('*'*i)"
   ]
  },
  {
   "cell_type": "code",
   "execution_count": 9,
   "id": "8f0c9666",
   "metadata": {},
   "outputs": [
    {
     "name": "stdout",
     "output_type": "stream",
     "text": [
      "-5\n",
      "12\n",
      "4.5\n"
     ]
    }
   ],
   "source": [
    "a, b = int(input()), int(input())\n",
    "result= [i for i in range(a, b + 1) if i % 3 == 0]\n",
    "print(sum(result) / len(result))"
   ]
  },
  {
   "cell_type": "code",
   "execution_count": 10,
   "id": "15974055",
   "metadata": {},
   "outputs": [
    {
     "name": "stdout",
     "output_type": "stream",
     "text": [
      "3\n",
      "***\n",
      "***\n",
      "***\n"
     ]
    }
   ],
   "source": [
    "n = int(input())\n",
    "for i in range(1, n + 1):\n",
    "    print('*' * n)"
   ]
  },
  {
   "cell_type": "code",
   "execution_count": 12,
   "id": "1c215fe4",
   "metadata": {},
   "outputs": [
    {
     "name": "stdout",
     "output_type": "stream",
     "text": [
      "1 1\n",
      "2\n"
     ]
    }
   ],
   "source": [
    "a, b = map(int, input().split())\n",
    "print(a + b)"
   ]
  },
  {
   "cell_type": "code",
   "execution_count": 13,
   "id": "4163f949",
   "metadata": {},
   "outputs": [
    {
     "name": "stdout",
     "output_type": "stream",
     "text": [
      "1 1 1\n",
      "YES\n"
     ]
    }
   ],
   "source": [
    "a, b, c = map(int, input().split())\n",
    "if a == b and b == c:\n",
    "    print('YES')\n",
    "else:\n",
    "    print('NO')"
   ]
  },
  {
   "cell_type": "code",
   "execution_count": 16,
   "id": "7708e5a5",
   "metadata": {},
   "outputs": [
    {
     "name": "stdout",
     "output_type": "stream",
     "text": [
      "350\n",
      "2 4 6 8 10 12 14 16 18 20 22 24 26 28 30 32 34 36 38 40 42 44 46 48 50 52 54 56 58 60 62 64 66 68 70 72 74 76 78 80 82 84 86 88 90 92 94 96 98 100 102 104 106 108 110 112 114 116 118 120 122 124 126 128 130 132 134 136 138 140 142 144 146 148 150 152 154 156 158 160 162 164 166 168 170 172 174 176 178 180 182 184 186 188 190 192 194 196 198 200 202 204 206 208 210 212 214 216 218 220 222 224 226 228 230 232 234 236 238 240 242 244 246 248 250 252 254 256 258 260 262 264 266 268 270 272 274 276 278 280 282 284 286 288 290 292 294 296 298 300 302 304 306 308 310 312 314 316 318 320 322 324 326 328 330 332 334 336 338 340 342 344 346 348\n"
     ]
    }
   ],
   "source": [
    "print(*[i for i in range(2, int(input()), 2)])"
   ]
  },
  {
   "cell_type": "code",
   "execution_count": 17,
   "id": "498e1746",
   "metadata": {},
   "outputs": [
    {
     "name": "stdout",
     "output_type": "stream",
     "text": [
      "5\n",
      "2 4\n"
     ]
    }
   ],
   "source": [
    "print(*range(2, int(input()), 2))"
   ]
  },
  {
   "cell_type": "code",
   "execution_count": 20,
   "id": "36083faa",
   "metadata": {},
   "outputs": [
    {
     "name": "stdout",
     "output_type": "stream",
     "text": [
      "RV6CC1K3AS\n",
      "2\n"
     ]
    }
   ],
   "source": [
    "string = input().lower()\n",
    "print(string.count('c'))"
   ]
  },
  {
   "cell_type": "code",
   "execution_count": 21,
   "id": "cb996d98",
   "metadata": {},
   "outputs": [
    {
     "name": "stdout",
     "output_type": "stream",
     "text": [
      "*\n",
      "**\n",
      "*\n",
      "*\n",
      "**\n",
      "*\n",
      "***\n",
      "*\n",
      "**\n",
      "***\n"
     ]
    }
   ],
   "source": [
    "i = 0\n",
    "while i < 5:\n",
    "    print('*')\n",
    "    if i % 2 == 0:\n",
    "        print('**')\n",
    "    if i > 2:\n",
    "        print('***')\n",
    "    i = i + 1"
   ]
  },
  {
   "cell_type": "code",
   "execution_count": 22,
   "id": "3a47979c",
   "metadata": {},
   "outputs": [
    {
     "name": "stdout",
     "output_type": "stream",
     "text": [
      "1\n",
      "2\n",
      "0\n",
      "3\n"
     ]
    }
   ],
   "source": [
    "total = 0\n",
    "while True:\n",
    "    x = int(input())\n",
    "    if x == 0:\n",
    "        break\n",
    "    else:\n",
    "        total += x\n",
    "print(total)"
   ]
  },
  {
   "cell_type": "code",
   "execution_count": 25,
   "id": "0aca9d11",
   "metadata": {},
   "outputs": [
    {
     "name": "stdout",
     "output_type": "stream",
     "text": [
      "12\n",
      "16\n",
      "48\n"
     ]
    }
   ],
   "source": [
    "a, b = int(input()), int(input())\n",
    "i = 1\n",
    "while True:\n",
    "    if i % a == 0 and i % b == 0:\n",
    "        break\n",
    "    i += 1\n",
    "print(i)"
   ]
  },
  {
   "cell_type": "code",
   "execution_count": 26,
   "id": "f105e66a",
   "metadata": {},
   "outputs": [
    {
     "name": "stdout",
     "output_type": "stream",
     "text": [
      "*\n",
      "qwe\n",
      "rty\n",
      "uio\n",
      "qwe*rty*uio\n"
     ]
    }
   ],
   "source": [
    "string = input()\n",
    "a, b, c = input(), input(), input()\n",
    "print(a, b, c, sep=string)"
   ]
  },
  {
   "cell_type": "code",
   "execution_count": null,
   "id": "91c0485a",
   "metadata": {},
   "outputs": [],
   "source": []
  }
 ],
 "metadata": {
  "kernelspec": {
   "display_name": "Python 3 (ipykernel)",
   "language": "python",
   "name": "python3"
  },
  "language_info": {
   "codemirror_mode": {
    "name": "ipython",
    "version": 3
   },
   "file_extension": ".py",
   "mimetype": "text/x-python",
   "name": "python",
   "nbconvert_exporter": "python",
   "pygments_lexer": "ipython3",
   "version": "3.9.7"
  }
 },
 "nbformat": 4,
 "nbformat_minor": 5
}
