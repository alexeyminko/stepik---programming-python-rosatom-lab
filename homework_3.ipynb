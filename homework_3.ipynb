{
 "cells": [
  {
   "cell_type": "code",
   "execution_count": 4,
   "id": "c85e9dee",
   "metadata": {},
   "outputs": [],
   "source": [
    "def decimal_coversion_16():\n",
    "    number_system = {chr(ord('A') + k): 10 + v for k,v in zip(range(6),range(6))}\n",
    "    n = 16\n",
    "    number = input()[::-1]\n",
    "    num_list = [int(number[i])*n**i if number[i].isdigit()\n",
    "                else number_system[number[i]]*n**i for i in range(len(number)) ]\n",
    "    print(sum(num_list))\n",
    "    \n",
    "decimal_coversion_16()"
   ]
  },
  {
   "cell_type": "code",
   "execution_count": null,
   "id": "018dd994",
   "metadata": {},
   "outputs": [],
   "source": []
  }
 ],
 "metadata": {
  "kernelspec": {
   "display_name": "Python 3 (ipykernel)",
   "language": "python",
   "name": "python3"
  },
  "language_info": {
   "codemirror_mode": {
    "name": "ipython",
    "version": 3
   },
   "file_extension": ".py",
   "mimetype": "text/x-python",
   "name": "python",
   "nbconvert_exporter": "python",
   "pygments_lexer": "ipython3",
   "version": "3.9.7"
  }
 },
 "nbformat": 4,
 "nbformat_minor": 5
}
