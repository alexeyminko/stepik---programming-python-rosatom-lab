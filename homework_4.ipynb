{
 "cells": [
  {
   "cell_type": "code",
   "execution_count": 3,
   "id": "0d611526",
   "metadata": {},
   "outputs": [
    {
     "name": "stdout",
     "output_type": "stream",
     "text": [
      "11\n",
      "Ноябрь\n"
     ]
    }
   ],
   "source": [
    "def month_name(n):\n",
    "    months = ['Январь', 'Февраль', 'Март', 'Апрель', 'Май', 'Июнь', 'Июль', 'Август', 'Сентябрь', 'Октябрь', 'Ноябрь', 'Декабрь']\n",
    "    return months[n - 1]\n",
    "n = int(input())\n",
    "print(month_name(n))"
   ]
  },
  {
   "cell_type": "code",
   "execution_count": 7,
   "id": "441b3c56",
   "metadata": {},
   "outputs": [
    {
     "name": "stdout",
     "output_type": "stream",
     "text": [
      "7\n",
      "13\n"
     ]
    }
   ],
   "source": [
    "def recursion_fibonacci(n):\n",
    "    if n <= 2:\n",
    "        return 1\n",
    "    return recursion_fibonacci(n - 1) + recursion_fibonacci(n - 2)\n",
    "\n",
    "n = int(input())\n",
    "print(recursion_fibonacci(n))"
   ]
  },
  {
   "cell_type": "code",
   "execution_count": 17,
   "id": "feef9044",
   "metadata": {},
   "outputs": [
    {
     "name": "stdout",
     "output_type": "stream",
     "text": [
      "4\n",
      "True\n"
     ]
    }
   ],
   "source": [
    "def is_year_leap(n):\n",
    "    if n % 4 == 0:\n",
    "        if n % 100 == 0 and n % 400 == 0:\n",
    "            return True\n",
    "        else:\n",
    "            return True\n",
    "    else:\n",
    "        return False\n",
    "    \n",
    "n = int(input())\n",
    "print(is_year_leap(n))\n",
    "            "
   ]
  },
  {
   "cell_type": "code",
   "execution_count": 24,
   "id": "1e6ed26a",
   "metadata": {},
   "outputs": [
    {
     "name": "stdout",
     "output_type": "stream",
     "text": [
      "3 10\n",
      "59049\n"
     ]
    }
   ],
   "source": [
    "def recursion_exp(a, b):\n",
    "    if b == 1:\n",
    "        return a\n",
    "    return recursion_exp(a, b - 1) * a\n",
    "   \n",
    "a, b = map(int, input().split())\n",
    "print(recursion_exp(a, b))"
   ]
  },
  {
   "cell_type": "code",
   "execution_count": 32,
   "id": "196b5ffa",
   "metadata": {},
   "outputs": [
    {
     "name": "stdout",
     "output_type": "stream",
     "text": [
      "aaaabbcaa\n",
      "a4b2c1a2\n"
     ]
    }
   ],
   "source": [
    "def dna_coding(text):\n",
    "    dna_new = [text[0]]\n",
    "    count = 1\n",
    "    for i in range(1, len(text)):\n",
    "        if text[i] == text[i - 1]:\n",
    "            count += 1\n",
    "        else:\n",
    "            dna_new.append(count)\n",
    "            dna_new.append(text[i])\n",
    "            count = 1\n",
    "    dna_new.append(count)\n",
    "    return dna_new\n",
    "\n",
    "text = input()\n",
    "print(*dna_coding(text), sep='')"
   ]
  },
  {
   "cell_type": "code",
   "execution_count": 35,
   "id": "a5b01226",
   "metadata": {},
   "outputs": [
    {
     "name": "stdout",
     "output_type": "stream",
     "text": [
      "2 3 8 11 4 6\n",
      "34\n"
     ]
    }
   ],
   "source": [
    "def calc_sum_numbers(A):\n",
    "    return sum(A)\n",
    "\n",
    "L = [int(i) for i in input().split()]\n",
    "print(calc_sum_numbers(L))"
   ]
  },
  {
   "cell_type": "code",
   "execution_count": 37,
   "id": "ece70784",
   "metadata": {},
   "outputs": [
    {
     "name": "stdout",
     "output_type": "stream",
     "text": [
      "1, 2, 3, 4, 5\n",
      "15\n"
     ]
    }
   ],
   "source": [
    "def recursion_calc_sum_numbers(A):\n",
    "    if len(A) == 1:\n",
    "        return A[0]\n",
    "    return recursion_calc_sum_numbers(A[1:]) + A[0]\n",
    "\n",
    "L = [int(i) for i in input().split(', ')]\n",
    "print(recursion_calc_sum_numbers(L))"
   ]
  },
  {
   "cell_type": "code",
   "execution_count": 40,
   "id": "0548de70",
   "metadata": {},
   "outputs": [
    {
     "name": "stdout",
     "output_type": "stream",
     "text": [
      "-2, 3, 8, -11, -4, 6\n",
      "3\n"
     ]
    }
   ],
   "source": [
    "def calc_sum_negative_numbers(A):\n",
    "    if len(A) == 1:\n",
    "        if A[0] < 0:\n",
    "            return 1\n",
    "        else:\n",
    "            return 0\n",
    "    else:\n",
    "        if A[0] < 0:\n",
    "            return CalcSumNegativeNumbers(A[1:]) + 1\n",
    "        else:\n",
    "            return CalcSumNegativeNumbers(A[1:]) + 0\n",
    "\n",
    "L = [int(i) for i in input().split(', ')]\n",
    "print(calc_sum_negative_numbers(L))"
   ]
  },
  {
   "cell_type": "code",
   "execution_count": 48,
   "id": "3faa04c0",
   "metadata": {},
   "outputs": [
    {
     "name": "stdout",
     "output_type": "stream",
     "text": [
      "500 2300 800 114 36\n",
      "2300\n"
     ]
    }
   ],
   "source": [
    "def get_max_list(A, max_num):\n",
    "    if len(A) == 1:\n",
    "        if max_num < A[0]:\n",
    "            max_num = A[0]\n",
    "            return max_num\n",
    "        else:\n",
    "            return max_num\n",
    "    else:\n",
    "        if max_num < A[0]:\n",
    "            max_num = A[0]\n",
    "            return get_max_list(A[1:], max_num)  \n",
    "        else:\n",
    "            return get_max_list(A[1:], max_num)\n",
    "\n",
    "max_num = 0    \n",
    "L = [int(i) for i in input().split()]\n",
    "print(get_max_list(L, max_num))"
   ]
  }
 ],
 "metadata": {
  "kernelspec": {
   "display_name": "Python 3 (ipykernel)",
   "language": "python",
   "name": "python3"
  },
  "language_info": {
   "codemirror_mode": {
    "name": "ipython",
    "version": 3
   },
   "file_extension": ".py",
   "mimetype": "text/x-python",
   "name": "python",
   "nbconvert_exporter": "python",
   "pygments_lexer": "ipython3",
   "version": "3.9.7"
  }
 },
 "nbformat": 4,
 "nbformat_minor": 5
}
