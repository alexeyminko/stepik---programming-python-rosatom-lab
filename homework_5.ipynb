{
 "cells": [
  {
   "cell_type": "code",
   "execution_count": 6,
   "id": "e8b2ac93",
   "metadata": {},
   "outputs": [
    {
     "name": "stdout",
     "output_type": "stream",
     "text": [
      "2\n",
      "[[0, 0], [0, 0]]\n"
     ]
    }
   ],
   "source": [
    "n = int(input())\n",
    "l = [0, 0]\n",
    "result = []\n",
    "for i in range(n):\n",
    "    result.append(l)\n",
    "print(result)"
   ]
  },
  {
   "cell_type": "code",
   "execution_count": 67,
   "id": "d3a6cf05",
   "metadata": {},
   "outputs": [
    {
     "name": "stdout",
     "output_type": "stream",
     "text": [
      "4\n",
      "[[[[0, 0], [0, 0]], [[0, 0], [0, 0]]], [[[0, 0], [0, 0]], [[0, 0], [0, 0]]]]\n"
     ]
    }
   ],
   "source": [
    "def recursion_mult_list(n, l):\n",
    "    if n == 2:\n",
    "        return [l] * 2\n",
    "    else:\n",
    "        return [recursion_mult_list(n - 1, l)] * 2\n",
    "    \n",
    "n = int(input())\n",
    "l = [0, 0]\n",
    "print(recursion_mult_list(n, l))"
   ]
  },
  {
   "cell_type": "code",
   "execution_count": 82,
   "id": "2b5034f8",
   "metadata": {},
   "outputs": [
    {
     "name": "stdout",
     "output_type": "stream",
     "text": [
      "7\n",
      "10\n",
      "5\n",
      "6\n",
      "\t5\t6\n",
      "7\t35\t42\n",
      "8\t40\t48\n",
      "9\t45\t54\n",
      "10\t50\t60\n"
     ]
    }
   ],
   "source": [
    "a, b, c, d = int(input()), int(input()), int(input()), int(input())\n",
    "print('', *[i for i in range(c, d + 1)], sep='\\t')\n",
    "for i in range(a, b + 1):\n",
    "    print(i, *[i*j for j in range(c, d + 1)], sep='\\t')"
   ]
  },
  {
   "cell_type": "code",
   "execution_count": 85,
   "id": "6092b9a8",
   "metadata": {},
   "outputs": [
    {
     "name": "stdout",
     "output_type": "stream",
     "text": [
      "1 1\n",
      "2 2\n",
      "1.414\n"
     ]
    }
   ],
   "source": [
    "a = [int(i) for i in input().split()]\n",
    "b = [int(i) for i in input().split()]\n",
    "distance = (abs(a[0] - b[0])**2 + abs(a[1] - b[1])**2)**0.5\n",
    "print(f'{distance:.3f}')"
   ]
  },
  {
   "cell_type": "code",
   "execution_count": 86,
   "id": "c8f83d2a",
   "metadata": {},
   "outputs": [
    {
     "name": "stdout",
     "output_type": "stream",
     "text": [
      "5 -4 3 -2 1\n",
      "1\n"
     ]
    }
   ],
   "source": [
    "a = [int(i) for i in input().split() if int(i) > 0]\n",
    "print(min(a))"
   ]
  },
  {
   "cell_type": "code",
   "execution_count": 87,
   "id": "96d8953f",
   "metadata": {},
   "outputs": [
    {
     "name": "stdout",
     "output_type": "stream",
     "text": [
      "1 2 2 3 3 3\n",
      "3\n"
     ]
    }
   ],
   "source": [
    "a = set(int(i) for i in input().split())\n",
    "print(len(a))"
   ]
  },
  {
   "cell_type": "code",
   "execution_count": 93,
   "id": "a0d5a188",
   "metadata": {},
   "outputs": [],
   "source": [
    "bird_dict = {0: 'гуся', 1: 'стрижа', 2: 'аиста', 3: 'сокола', 4: 'гагары', \n",
    "             5: 'пеликана', 6: 'розового фламинго', 7: 'буревестника', 8: 'пингвина', \n",
    "             9: 'курицы', 10: 'журавля', 11: 'воробья', 12: 'дятла', 13: 'попугая', \n",
    "             14: 'совы', 15: 'страуса', 16: 'голубя'}\n",
    "\n",
    "fluid_dict = {0: 'воды', 1: 'жижы', 2: 'слюней', 3: 'соплей', 4: 'чая', 5: 'кофе', \n",
    "              6: 'морса', 7: 'кипятка', 8: 'спирта', 9: 'мазута', 10: 'масла', 11: 'супа', \n",
    "              12: 'каши', 13: 'какашек'}\n",
    "\n",
    "participle_dict = {0: 'лежащие', 1: 'висящие', 2: 'прыгающие', 3: 'скачущие', \n",
    "                   4: 'идущие', 5: 'летящие', 6: 'связанные веревкой', 7: 'обгоревшие', \n",
    "                   8: 'испорченные', 9: 'глупеющие на глазах', 10: 'катающиеся на велосипеде'}"
   ]
  },
  {
   "cell_type": "code",
   "execution_count": null,
   "id": "5ba0e152",
   "metadata": {},
   "outputs": [],
   "source": []
  },
  {
   "cell_type": "code",
   "execution_count": 105,
   "id": "9a430641",
   "metadata": {},
   "outputs": [],
   "source": [
    "def mad_libs_elementary():\n",
    "    bird_dict = {0: 'гуся', 1: 'стрижа', 2: 'аиста', 3: 'сокола', 4: 'гагары', \n",
    "             5: 'пеликана', 6: 'розового фламинго', 7: 'буревестника', 8: 'пингвина', \n",
    "             9: 'курицы', 10: 'журавля', 11: 'воробья', 12: 'дятла', 13: 'попугая', \n",
    "             14: 'совы', 15: 'страуса', 16: 'голубя'}\n",
    "\n",
    "    fluid_dict = {0: 'воды', 1: 'жижы', 2: 'слюней', 3: 'соплей', 4: 'чая', 5: 'кофе', \n",
    "              6: 'морса', 7: 'кипятка', 8: 'спирта', 9: 'мазута', 10: 'масла', 11: 'супа', \n",
    "              12: 'каши', 13: 'какашек'}\n",
    "\n",
    "    participle_dict = {0: 'лежащие', 1: 'висящие', 2: 'прыгающие', 3: 'скачущие', \n",
    "                   4: 'идущие', 5: 'летающие', 6: 'связанные веревкой', 7: 'обгоревшие', \n",
    "                   8: 'испорченные', 9: 'глупеющие на глазах', 10: 'катающиеся на велосипеде'}\n",
    "    adj_1 = input('Прилагательное (мужской род, именительный падеж): ')\n",
    "    adj_2 = input('Прилагательное (средний род, родительный падеж): ')\n",
    "    bird = int(input('Выбери число от 1 до 16: '))\n",
    "    room_1 = input('Выбери комнату в доме (предложный падеж): ')\n",
    "    verb_1 = input('Напиши глагол (прошедшее время): ')\n",
    "    verb_2 = input('Напиши глагол (инфинитив): ')\n",
    "    relative = input('Напиши имя родственника (дательный падеж): ')\n",
    "    noun_1 = input('Напиши существительное (мужской род): ')\n",
    "    fluid = int(input('Выбери число от 1 до 13: '))\n",
    "    room_2 = input('Выбери комнату в доме (винительный падеж): ')\n",
    "    part_body = input('Напиши часть тела (множественное число, дательный падеж): ')\n",
    "    noun_2 = input('Напиши существительное (множественное число, именительный падеж): ')\n",
    "    participle = int(input('Выбери число от 1 до 10: '))\n",
    "    noun_3 = input('Напиши существительное (предложный падеж): ')\n",
    "    print(f'''\n",
    "    Был {adj_1} холодный ноябрьский день. Я проснулся от {adj_2} запаха {bird_dict[bird]}, жарящейся в {room_1} \n",
    "    внизу. Я {verb_1} спускаться по лестнице, чтобы посмотреть, могу ли я помочь {verb_2} с ужином. Моя мама \n",
    "    сказала: «Посмотри, не нужен ли {relative} свежий {noun_1}». Итак, я принесла поднос со стаканами, полными \n",
    "    {fluid_dict[fluid]} , в {room_2}. Когда я добралась туда, я не могла поверить своим \n",
    "    {part_body}! Здесь были {noun_2} {participle_dict[participle]} на {noun_3}!\n",
    "    ''')"
   ]
  },
  {
   "cell_type": "code",
   "execution_count": null,
   "id": "9a79d21a",
   "metadata": {},
   "outputs": [],
   "source": [
    "mad_libs_elementary()"
   ]
  }
 ],
 "metadata": {
  "kernelspec": {
   "display_name": "Python 3 (ipykernel)",
   "language": "python",
   "name": "python3"
  },
  "language_info": {
   "codemirror_mode": {
    "name": "ipython",
    "version": 3
   },
   "file_extension": ".py",
   "mimetype": "text/x-python",
   "name": "python",
   "nbconvert_exporter": "python",
   "pygments_lexer": "ipython3",
   "version": "3.9.7"
  }
 },
 "nbformat": 4,
 "nbformat_minor": 5
}
